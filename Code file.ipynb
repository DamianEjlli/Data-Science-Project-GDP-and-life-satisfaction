{
 "cells": [
  {
   "cell_type": "code",
   "execution_count": null,
   "metadata": {},
   "outputs": [],
   "source": [
    "# Here are imported the libraries/modules that are used below for the analysis.\n",
    "\n",
    "%matplotlib inline \n",
    "import numpy as np\n",
    "import matplotlib.pyplot as plt\n",
    "import scipy as sp\n",
    "import pandas as pd\n",
    "import sklearn.neighbors"
   ]
  },
  {
   "cell_type": "code",
   "execution_count": null,
   "metadata": {},
   "outputs": [],
   "source": [
    "# Here I use my local file path on reading the .csv files.\n",
    "# The reader must use the appropriate path where files are located in their computers.\n",
    "\n",
    "# I select as header the third row of the file gdp per capita (n=2). The delimiter is \",\"\n",
    "GDP=pd.read_csv(\"/Users/damianejlli/Downloads/gdp per capita.csv\", delimiter=\",\", header=2) \n",
    "\n",
    "# There is no need to specify the header for the \"better life index.csv\" file.\n",
    "LS=pd.read_csv(\"/Users/damianejlli/Downloads/better life index.csv\")"
   ]
  },
  {
   "cell_type": "code",
   "execution_count": null,
   "metadata": {},
   "outputs": [],
   "source": [
    "#I display some of the content of the GDP dataframe.\n",
    "\n",
    "GDP.head() "
   ]
  },
  {
   "cell_type": "code",
   "execution_count": null,
   "metadata": {},
   "outputs": [],
   "source": [
    "# I select the columns \"Country Name\" and year \"2015\" for the analysis in the GDP dataframe.\n",
    "\n",
    "GPD1=gdp_per_capita.loc[:,[\"Country Name\", '2015']] "
   ]
  },
  {
   "cell_type": "code",
   "execution_count": null,
   "metadata": {},
   "outputs": [],
   "source": [
    "# I display the GDP1 dataframe content.\n",
    "\n",
    "GPD1"
   ]
  },
  {
   "cell_type": "code",
   "execution_count": null,
   "metadata": {},
   "outputs": [],
   "source": [
    "# I set as index the \"Country Name\" column and rename the column \"2015\" to \"GPD per capita 2015 (USD)\"\n",
    "\n",
    "GDP2=GPD1.set_index(\"Country Name\").rename(columns={\"2015\": \"GPD per capita 2015 (USD)\"}) "
   ]
  },
  {
   "cell_type": "code",
   "execution_count": null,
   "metadata": {},
   "outputs": [],
   "source": [
    "# I show the first ten rows of the GDP2 dataframe as a matter of example\n",
    "\n",
    "GDP2.head(10)"
   ]
  },
  {
   "cell_type": "code",
   "execution_count": null,
   "metadata": {},
   "outputs": [],
   "source": [
    "# I show the first ten rows of the LS dataframe as a matter of example.\n",
    "\n",
    "LS.head()"
   ]
  },
  {
   "cell_type": "code",
   "execution_count": null,
   "metadata": {},
   "outputs": [],
   "source": [
    "# I show the shape of the LS dataframe. It has 2369 rows and 17 columns.\n",
    "\n",
    "LS.shape "
   ]
  },
  {
   "cell_type": "code",
   "execution_count": null,
   "metadata": {},
   "outputs": [],
   "source": [
    "# I use a conditional to choose all those rows with values \"Life satisfaction\" in the column \"Indicator\" \n",
    "# and all those equal to \"TOT\" in the \"INEQUALITY\" column in the LS dataframe. \n",
    "# \"TOT\" is the total value of life satisfaction for men and women in a given country.\n",
    "\n",
    "LS1=LS[(LS[\"Indicator\"]==\"Life satisfaction\") & (LS[\"INEQUALITY\"]==\"TOT\")] "
   ]
  },
  {
   "cell_type": "code",
   "execution_count": null,
   "metadata": {},
   "outputs": [],
   "source": [
    "# I show the first 10 entries of the LS1 dataframe as a matter of exmple.\n",
    "\n",
    "LS1.head(10)"
   ]
  },
  {
   "cell_type": "code",
   "execution_count": null,
   "metadata": {},
   "outputs": [],
   "source": [
    "# First, in the LS1 dataframe, I rename the columns \"Country\" and \"Value\" respectively to \"Country Name\" and \"Life Satisfaction Value\".\n",
    "# Second, I set as index of the new dataframe the \"Country Name\" and after I select all rows in the \"Indicator\" column \n",
    "# with entries equal to \"Life Satisfaction Value\".\n",
    "\n",
    "LS2=LS1.rename(columns={\"Country\" : \"Country Name\", \"Value\": \"Life Satisfaction Value\"}).set_index(\"Country Name\").loc[:, [\"Life Satisfaction Value\"]]"
   ]
  },
  {
   "cell_type": "code",
   "execution_count": null,
   "metadata": {},
   "outputs": [],
   "source": [
    "# I show the first 10 entries of the LS2 dataframe as a matter of exmple.\n",
    "\n",
    "LS2.head(10)"
   ]
  },
  {
   "cell_type": "code",
   "execution_count": null,
   "metadata": {},
   "outputs": [],
   "source": [
    "# I remove the entry \"OECD-Total\" country index from the LS2 dataframe because it is unneccessary for the analysis.\n",
    "\n",
    "LS3=LS2[LS2.index != \"OECD - Total\"] "
   ]
  },
  {
   "cell_type": "code",
   "execution_count": null,
   "metadata": {},
   "outputs": [],
   "source": [
    "# I show the first 10 entries of the LS3 dataframe as a matter of exmple.\n",
    "\n",
    "LS3.head(10)"
   ]
  },
  {
   "cell_type": "code",
   "execution_count": null,
   "metadata": {},
   "outputs": [],
   "source": [
    "# I join the LS3 dataframe with the GPD2 dataframe in order to form the final dataframe, df.\n",
    "\n",
    "df=LS3.join(GPD2) "
   ]
  },
  {
   "cell_type": "code",
   "execution_count": null,
   "metadata": {},
   "outputs": [],
   "source": [
    "# I display the entries in the joint dataframe, df.\n",
    "\n",
    "df"
   ]
  },
  {
   "cell_type": "code",
   "execution_count": null,
   "metadata": {},
   "outputs": [],
   "source": [
    "# I remove the NaN values from the \"df\" dataframe to form the final dataframe for the analysis, \"df1\".\n",
    "\n",
    "df1=df.dropna()"
   ]
  },
  {
   "cell_type": "code",
   "execution_count": null,
   "metadata": {},
   "outputs": [],
   "source": [
    "# I display the df1 dataframe.\n",
    "\n",
    "df1"
   ]
  },
  {
   "cell_type": "code",
   "execution_count": null,
   "metadata": {},
   "outputs": [],
   "source": [
    "# I calculate the shape of the df1 dataframe. The dataframe has 38 rows and 2 columns.\n",
    "\n",
    "df1.shape"
   ]
  },
  {
   "cell_type": "code",
   "execution_count": null,
   "metadata": {},
   "outputs": [],
   "source": [
    "# I create a scatter plot for the data in the df1 dataframe.\n",
    "\n",
    "df1.plot(kind=\"scatter\", x=\"GPD per capita 2015 (USD)\", y=\"Life Satisfaction Value\", color=\"b\", figsize=(10,6)) "
   ]
  },
  {
   "cell_type": "code",
   "execution_count": null,
   "metadata": {},
   "outputs": [],
   "source": [
    "# I calculate the Pearson correlation coeffeicient r for the data in the df1 dataframe \n",
    "# and display the correlation dataframe.\n",
    "\n",
    "df1.corr()"
   ]
  },
  {
   "cell_type": "code",
   "execution_count": null,
   "metadata": {},
   "outputs": [],
   "source": [
    "# I extract all values of the \"GPD per capita 2015 (USD)\" and \"Life Satisfaction Value\" columns and  \n",
    "# form new (38x1) column arrays \"a\" and \"b\".\n",
    "\n",
    "a=df1.loc[:, [\"GPD per capita 2015 (USD)\"]].values \n",
    "b=df1.loc[:, [\"Life Satisfaction Value\"]].values "
   ]
  },
  {
   "cell_type": "code",
   "execution_count": null,
   "metadata": {},
   "outputs": [],
   "source": [
    "# I reshape the original (38x1) column arrary \"a\" to a (1x38) row array \"X\".\n",
    "\n",
    "X=a.reshape(38) "
   ]
  },
  {
   "cell_type": "code",
   "execution_count": null,
   "metadata": {},
   "outputs": [],
   "source": [
    "# I display the \"X\" array.\n",
    "\n",
    "X"
   ]
  },
  {
   "cell_type": "code",
   "execution_count": null,
   "metadata": {},
   "outputs": [],
   "source": [
    "# I reshape the original (38x1) column \"b\" array to a (1x38) row array \"y\".\n",
    "\n",
    "y=b.reshape(38) "
   ]
  },
  {
   "cell_type": "code",
   "execution_count": null,
   "metadata": {},
   "outputs": [],
   "source": [
    "# I display the \"y\" array. \n",
    "y"
   ]
  },
  {
   "cell_type": "code",
   "execution_count": null,
   "metadata": {},
   "outputs": [],
   "source": [
    "# First, I assume a simple linear regression model for the data in \"X\" and \"y\" arrays \n",
    "# and calculate the slope, intercept etc., of the linear regression method. \n",
    "# Here I use the \"stats\" module of \"Scipy\" library and its linear regression built in method.\n",
    "\n",
    "result = sp.stats.linregress(X, y)"
   ]
  },
  {
   "cell_type": "code",
   "execution_count": null,
   "metadata": {},
   "outputs": [],
   "source": [
    "# I print the results of the simple linear regression method.\n",
    "\n",
    "print(result)"
   ]
  },
  {
   "cell_type": "code",
   "execution_count": null,
   "metadata": {},
   "outputs": [],
   "source": [
    "# I create a figure with a single subplot where the original data of the df1 dataframe \n",
    "# and the linear regression line Y(X) are shown.\n",
    "\n",
    "fig, ax=plt.subplots(figsize=(10, 6))\n",
    "ax.scatter(X, y, color='b', label=\"Original data\")\n",
    "ax.plot(X, result.intercept + (result.slope)*X, color=\"m\", label=\"Linear regression line: $Y(X)=5.74+2.39\\cdot 10^{-5} X$\")\n",
    "ax.set_xlabel(\"GPD per capita 2015 (USD)\")\n",
    "ax.set_ylabel(\"Life Satifaction Value\")\n",
    "plt.legend()"
   ]
  },
  {
   "cell_type": "code",
   "execution_count": null,
   "metadata": {},
   "outputs": [],
   "source": [
    "# I calculate the t-score in order to estimate the Confidence Intervals (CIs)\n",
    "# of the linear regression coefficients \"beta_0\" and \"beta_1\" at significance \n",
    "# level of alpha=0.05 and Confidence Level (CL) of 95%. The number of degrees of freedom for the data is n=38. \n",
    "\n",
    "n=38\n",
    "alpha=0.05\n",
    "t_score = sp.stats.t.ppf(1-alpha/2, n-2) \n",
    "print(t)"
   ]
  },
  {
   "cell_type": "code",
   "execution_count": null,
   "metadata": {},
   "outputs": [],
   "source": [
    "# Second, I use the KNN regression method to find a relationship between the data for K=5 (default value).\n",
    "\n",
    "model=sklearn.neighbors.KNeighborsRegressor()"
   ]
  },
  {
   "cell_type": "code",
   "execution_count": null,
   "metadata": {},
   "outputs": [],
   "source": [
    "# I use the fit() function to fit the data of the KNN method\n",
    "# and use the original column vectors \"a\" and \"b\" and redefine \n",
    "# them as \"X1\" and \"y1\" to use in the KNN regression method.\n",
    "\n",
    "X1=a \n",
    "y1=b\n",
    "model.fit(X1,y1)"
   ]
  },
  {
   "cell_type": "code",
   "execution_count": null,
   "metadata": {},
   "outputs": [],
   "source": [
    "# I calculate the predicted values of the KNN method for \n",
    "# the GDP data \"X\" not present in the df1 dataframe for the countries of Albania, United Arab Emirates and Armenia.\n",
    "\n",
    "X_new=[[3607.296697],[38663.383807],[3607.296697]]"
   ]
  },
  {
   "cell_type": "code",
   "execution_count": null,
   "metadata": {},
   "outputs": [],
   "source": [
    "# I Print the predicted values of \"Life Satisfaction Value\" respectively \n",
    "# for Albania, United Arab Emirates and Armenia.\n",
    "\n",
    "print(model.predict(X_new))"
   ]
  },
  {
   "cell_type": "code",
   "execution_count": null,
   "metadata": {},
   "outputs": [],
   "source": [
    "# I print the value of the generalized correlation coefficient R^2. \n",
    "\n",
    "print(model.score(X1, y1, sample_weight=None))"
   ]
  }
 ],
 "metadata": {
  "kernelspec": {
   "display_name": "Python 3",
   "language": "python",
   "name": "python3"
  },
  "language_info": {
   "codemirror_mode": {
    "name": "ipython",
    "version": 3
   },
   "file_extension": ".py",
   "mimetype": "text/x-python",
   "name": "python",
   "nbconvert_exporter": "python",
   "pygments_lexer": "ipython3",
   "version": "3.8.5"
  }
 },
 "nbformat": 4,
 "nbformat_minor": 4
}
