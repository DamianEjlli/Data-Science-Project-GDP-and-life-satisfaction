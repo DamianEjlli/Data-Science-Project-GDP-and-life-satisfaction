{
 "cells": [
  {
   "cell_type": "code",
   "execution_count": null,
   "metadata": {},
   "outputs": [],
   "source": [
    "# Here are imported the libraries/modules that are used below for the analysis.\n",
    "\n",
    "#%matplotlib notebook\n",
    "%matplotlib inline\n",
    "import numpy as np\n",
    "import matplotlib.pyplot as plt\n",
    "import scipy as sp\n",
    "import pandas as pd\n",
    "import sklearn as sk\n",
    "from sklearn import neighbors\n",
    "from sklearn.metrics import mean_squared_error \n",
    "import seaborn as sns"
   ]
  },
  {
   "cell_type": "code",
   "execution_count": null,
   "metadata": {},
   "outputs": [],
   "source": [
    "# Here I use my local file path on reading the .csv files.\n",
    "# The reader must use the appropriate path where files are located in their computers.\n",
    "\n",
    "# I select as header the third row of the file gdp per capita (n=2). The delimiter is \",\"\n",
    "GDP=pd.read_csv(\"/Users/damianejlli/Downloads/gdp per capita.csv\", delimiter=\",\", header=2) \n",
    "\n",
    "# There is no need to specify the header for the \"better life index.csv\" file.\n",
    "LS=pd.read_csv(\"/Users/damianejlli/Downloads/better life index.csv\")"
   ]
  },
  {
   "cell_type": "code",
   "execution_count": null,
   "metadata": {},
   "outputs": [],
   "source": [
    "#I display some of the content of the GDP dataframe.\n",
    "\n",
    "GDP.head() "
   ]
  },
  {
   "cell_type": "code",
   "execution_count": null,
   "metadata": {},
   "outputs": [],
   "source": [
    "# I select the columns \"Country Name\" and year \"2015\" for the analysis in the GDP dataframe.\n",
    "\n",
    "GPD1=GDP.loc[:,[\"Country Name\", '2015']] "
   ]
  },
  {
   "cell_type": "code",
   "execution_count": null,
   "metadata": {},
   "outputs": [],
   "source": [
    "# I display the GDP1 dataframe content.\n",
    "\n",
    "GPD1"
   ]
  },
  {
   "cell_type": "code",
   "execution_count": null,
   "metadata": {},
   "outputs": [],
   "source": [
    "# I set as index the \"Country Name\" column and rename the column \"2015\" to \"GPD per capita 2015 (USD)\"\n",
    "# and I set the dataframe in alphabetic order\n",
    "\n",
    "GDP2=GPD1.set_index(\"Country Name\").rename(columns={\"2015\": \"GDP per capita 2015 (USD)\"}).sort_index()"
   ]
  },
  {
   "cell_type": "code",
   "execution_count": null,
   "metadata": {},
   "outputs": [],
   "source": [
    "# I show the first ten rows of the GDP2 dataframe as a matter of example\n",
    "# print(GDP2.to_string())\n",
    "\n",
    "GDP2.head(10)"
   ]
  },
  {
   "cell_type": "code",
   "execution_count": null,
   "metadata": {},
   "outputs": [],
   "source": [
    "# I show the first five rows of the LS dataframe as a matter of example.\n",
    "\n",
    "LS.head()"
   ]
  },
  {
   "cell_type": "code",
   "execution_count": null,
   "metadata": {},
   "outputs": [],
   "source": [
    "# I show the shape of the LS dataframe. It has 2369 rows and 17 columns.\n",
    "\n",
    "LS.shape "
   ]
  },
  {
   "cell_type": "code",
   "execution_count": null,
   "metadata": {},
   "outputs": [],
   "source": [
    "# I use a conditional to choose all those rows with values \"Life satisfaction\" in the column \"Indicator\" \n",
    "# and all those equal to \"TOT\" in the \"INEQUALITY\" column in the LS dataframe. \n",
    "# \"TOT\" is the total value of life satisfaction for men and women in a given country.\n",
    "\n",
    "LS1=LS[(LS[\"Indicator\"]==\"Life satisfaction\") & (LS[\"INEQUALITY\"]==\"TOT\")] "
   ]
  },
  {
   "cell_type": "code",
   "execution_count": null,
   "metadata": {},
   "outputs": [],
   "source": [
    "# I show the first 10 entries of the LS1 dataframe as a matter of exmple.\n",
    "\n",
    "LS1.head(10)"
   ]
  },
  {
   "cell_type": "code",
   "execution_count": null,
   "metadata": {},
   "outputs": [],
   "source": [
    "# First, in the LS1 dataframe, I rename the columns \"Country\" and \"Value\" respectively to \"Country Name\" and \"Life Satisfaction Value\".\n",
    "# Second, I set as index of the new dataframe the \"Country Name\" and after I select all rows in the \"Indicator\" column \n",
    "# with entries equal to \"Life Satisfaction Value\". After the results are sorted alphabetically.\n",
    "\n",
    "LS2=LS1.rename(columns={\"Country\" : \"Country Name\", \"Value\": \"Life Satisfaction Value\"}).set_index(\"Country Name\").loc[:, [\"Life Satisfaction Value\"]].sort_index()"
   ]
  },
  {
   "cell_type": "code",
   "execution_count": null,
   "metadata": {},
   "outputs": [],
   "source": [
    "# I show the first 10 entries of the LS2 dataframe as a matter of exmple.\n",
    "\n",
    "LS2.head(10)"
   ]
  },
  {
   "cell_type": "code",
   "execution_count": null,
   "metadata": {},
   "outputs": [],
   "source": [
    "# I remove the entry \"OECD-Total\" country index from the LS2 dataframe because it is unneccessary for the analysis.\n",
    "\n",
    "LS3=LS2[LS2.index != \"OECD - Total\"] "
   ]
  },
  {
   "cell_type": "code",
   "execution_count": null,
   "metadata": {},
   "outputs": [],
   "source": [
    "# I show the first 10 entries of the LS3 dataframe as a matter of exmple.\n",
    "\n",
    "LS3.head(10)"
   ]
  },
  {
   "cell_type": "code",
   "execution_count": null,
   "metadata": {},
   "outputs": [],
   "source": [
    "# I join the LS3 dataframe with the GPD2 dataframe in order to form the final dataframe, df.\n",
    "\n",
    "df=LS3.join(GDP2) "
   ]
  },
  {
   "cell_type": "code",
   "execution_count": null,
   "metadata": {},
   "outputs": [],
   "source": [
    "# I display the entries in the joint dataframe, df.\n",
    "\n",
    "df"
   ]
  },
  {
   "cell_type": "code",
   "execution_count": null,
   "metadata": {},
   "outputs": [],
   "source": [
    "# I remove the NaN values from the \"df\" dataframe to form the final dataframe for the analysis, \"df1\".\n",
    "\n",
    "df1=df.dropna()"
   ]
  },
  {
   "cell_type": "code",
   "execution_count": null,
   "metadata": {},
   "outputs": [],
   "source": [
    "# I display the df1 dataframe.\n",
    "\n",
    "df1"
   ]
  },
  {
   "cell_type": "code",
   "execution_count": null,
   "metadata": {},
   "outputs": [],
   "source": [
    "# I calculate the shape of the df1 dataframe. The dataframe has 38 rows and 2 columns.\n",
    "\n",
    "df1.shape"
   ]
  },
  {
   "cell_type": "code",
   "execution_count": null,
   "metadata": {},
   "outputs": [],
   "source": [
    "# I create a scatter plot for the data in the df1 dataframe.\n",
    "\n",
    "df1.plot(kind=\"scatter\", x=\"GDP per capita 2015 (USD)\", y=\"Life Satisfaction Value\", color=\"b\", figsize=(10,6)) "
   ]
  },
  {
   "cell_type": "code",
   "execution_count": null,
   "metadata": {},
   "outputs": [],
   "source": [
    "# I calculate the Pearson correlation coeffeicient r for the data in the df1 dataframe \n",
    "# and display the correlation dataframe.\n",
    "\n",
    "df1.corr()"
   ]
  },
  {
   "cell_type": "code",
   "execution_count": null,
   "metadata": {},
   "outputs": [],
   "source": [
    "# I extract all values of the \"GPD per capita 2015 (USD)\" and \"Life Satisfaction Value\" columns and  \n",
    "# form new (38x1) column arrays \"a\" and \"b\".\n",
    "\n",
    "a=df1.loc[:, [\"GDP per capita 2015 (USD)\"]].values\n",
    "b=df1.loc[:, [\"Life Satisfaction Value\"]].values "
   ]
  },
  {
   "cell_type": "code",
   "execution_count": null,
   "metadata": {},
   "outputs": [],
   "source": [
    "# I reshape the original (38x1) column arrary \"a\" to a (1x38) row array \"X\".\n",
    "\n",
    "X=a.reshape(38)"
   ]
  },
  {
   "cell_type": "code",
   "execution_count": null,
   "metadata": {},
   "outputs": [],
   "source": [
    "# I display the \"X\" array.\n",
    "\n",
    "X"
   ]
  },
  {
   "cell_type": "code",
   "execution_count": null,
   "metadata": {},
   "outputs": [],
   "source": [
    "# I reshape the original (38x1) column \"b\" array to a (1x38) row array \"y\".\n",
    "\n",
    "y=b.reshape(38) "
   ]
  },
  {
   "cell_type": "code",
   "execution_count": null,
   "metadata": {},
   "outputs": [],
   "source": [
    "# I display the \"y\" array. \n",
    "y"
   ]
  },
  {
   "cell_type": "code",
   "execution_count": null,
   "metadata": {},
   "outputs": [],
   "source": [
    "# First, I assume a simple linear regression model for the data in \"X\" and \"y\" arrays \n",
    "# and calculate the slope, intercept etc., of the linear regression method. \n",
    "# Here I use the \"stats\" module of \"Scipy\" library and its linear regression built in method.\n",
    "\n",
    "result = sp.stats.linregress(X, y)"
   ]
  },
  {
   "cell_type": "code",
   "execution_count": null,
   "metadata": {},
   "outputs": [],
   "source": [
    "# I print the results of the simple linear regression method.\n",
    "\n",
    "print(result)"
   ]
  },
  {
   "cell_type": "code",
   "execution_count": null,
   "metadata": {},
   "outputs": [],
   "source": [
    "# I create a figure with a single subplot where the original data of the df1 dataframe \n",
    "# and the linear regression line Y(X) are shown.\n",
    "\n",
    "fig, ax=plt.subplots(figsize=(10, 6))\n",
    "ax.scatter(X, y, color='b', label=\"Original data\")\n",
    "ax.plot(X, result.intercept + (result.slope)*X, color=\"m\", label=\"Linear regression line: $Y(X)=5.74+2.39\\cdot 10^{-5} X$\")\n",
    "ax.set_xlabel(\"GDP per capita 2015 (USD)\")\n",
    "ax.set_ylabel(\"Life Satifaction Value\")\n",
    "plt.legend()"
   ]
  },
  {
   "cell_type": "code",
   "execution_count": null,
   "metadata": {},
   "outputs": [],
   "source": [
    "# I show the linear regression line together with the 95% confidence interval for the regression parameters\n",
    "# and the original data by using seaborn module.\n",
    "\n",
    "fig, ax = plt.subplots(figsize=(10, 6))\n",
    "sns.regplot(x=\"GDP per capita 2015 (USD)\", y=\"Life Satisfaction Value\", data=df1, ci=95, order=1,line_kws={'label': 'Linear regression line: $Y(X)=5.74+2.39\\cdot 10^{-5} X$', 'color': 'm'}, seed=1,truncate=False, label=\"Original data\")\n",
    "ax.set_xticks([1000, 10000, 20000, 30000, 40000, 50000, 60000, 70000, 80000, 90000, 100000])\n",
    "ax.set_yticks(np.arange(3.0, 10.5, 0.5))\n",
    "ax.legend(loc=\"upper left\")"
   ]
  },
  {
   "cell_type": "code",
   "execution_count": null,
   "metadata": {},
   "outputs": [],
   "source": [
    "# I calculate the t-score in order to estimate the Confidence Intervals (CIs)\n",
    "# of the linear regression coefficients \"beta_0\" and \"beta_1\" at significance \n",
    "# level of alpha=0.05 and Confidence Level (CL) of 95%. The number of degrees of freedom for the data is n=38. \n",
    "\n",
    "n=38\n",
    "alpha=0.05\n",
    "t_score = sp.stats.t.ppf(1-alpha/2, n-2) \n",
    "print(\"Model t_score: \", t_score)"
   ]
  },
  {
   "cell_type": "code",
   "execution_count": null,
   "metadata": {},
   "outputs": [],
   "source": [
    "# Second, I use the KNN regression method to find a relationship between the data for K=5 (default value).\n",
    "\n",
    "model=sk.neighbors.KNeighborsRegressor(n_neighbors=5)"
   ]
  },
  {
   "cell_type": "code",
   "execution_count": null,
   "metadata": {},
   "outputs": [],
   "source": [
    "# I use the fit() function to fit the data of the KNN method\n",
    "# and reshape the X and y 1D arrays to form 2D arrays to use for the KNN method.\n",
    "\n",
    "model.fit(X.reshape(-1, 1),y.reshape(-1, 1))"
   ]
  },
  {
   "cell_type": "code",
   "execution_count": null,
   "metadata": {},
   "outputs": [],
   "source": [
    "# I calculate the predicted values of the KNN method for \n",
    "# the GDP data \"X\" not present in the df1 dataframe for the countries of Albania, United Arab Emirates and Armenia.\n",
    "\n",
    "X_new=[[3952.801215],[38663.383807],[3607.296697]]"
   ]
  },
  {
   "cell_type": "code",
   "execution_count": null,
   "metadata": {},
   "outputs": [],
   "source": [
    "# I Print the predicted values of \"Life Satisfaction Value\" respectively \n",
    "# for Albania, United Arab Emirates and Armenia.\n",
    "\n",
    "print(model.predict(X_new))"
   ]
  },
  {
   "cell_type": "code",
   "execution_count": null,
   "metadata": {},
   "outputs": [],
   "source": [
    "# I print the value of the generalized correlation coefficient R^2 for the KNN model for K=5. \n",
    "\n",
    "print(\"Model R^2 value: \", model.score(X.reshape(-1, 1),y.reshape(-1, 1), sample_weight=None))"
   ]
  },
  {
   "cell_type": "code",
   "execution_count": null,
   "metadata": {},
   "outputs": [],
   "source": [
    "# Here as a matter of example, I show that what I found for the simple linear regression above\n",
    "# can be done aslo by using the sklearn module as well.\n",
    "\n",
    "model = sk.linear_model.LinearRegression(fit_intercept=True)\n",
    "model.fit(X.reshape(-1, 1),y.reshape(-1, 1))"
   ]
  },
  {
   "cell_type": "code",
   "execution_count": null,
   "metadata": {},
   "outputs": [],
   "source": [
    "# I show that the sklearn module gives exactly the same results obtained above with the stats module.\n",
    "\n",
    "yfit = model.predict(X.reshape(-1, 1))\n",
    "fig, ax=plt.subplots(figsize=(10, 6))\n",
    "ax.scatter(X.reshape(-1, 1), y.reshape(-1, 1), label=\"Original data\")\n",
    "ax.plot(X.reshape(-1, 1), yfit, color=\"m\", label=\"Linear regression line\")\n",
    "ax.set_xlabel(\"GDP per capita 2015 (USD)\")\n",
    "ax.set_ylabel(\"Life Satifaction Value\")\n",
    "ax.legend()\n"
   ]
  },
  {
   "cell_type": "code",
   "execution_count": null,
   "metadata": {},
   "outputs": [],
   "source": [
    "# I print the values of slope and intercept coefficients for the linear model obtained using sklearn.\n",
    "# The values agree with those obtained with the stats module.\n",
    "\n",
    "print(\"Model slope: \", model.coef_[0])\n",
    "print(\"Model intercept:\", model.intercept_)"
   ]
  },
  {
   "cell_type": "code",
   "execution_count": null,
   "metadata": {},
   "outputs": [],
   "source": [
    "# Now I make a test-train analyzis for the data in order to asses model accuracy\n",
    "# in making new predictions. Here I split the data where only 20% of the data goes into the test set.\n",
    "\n",
    "X_train, X_test, y_train, y_test=sk.model_selection.train_test_split(X.reshape(-1, 1), y.reshape(-1, 1), test_size=0.2, random_state=0)"
   ]
  },
  {
   "cell_type": "code",
   "execution_count": null,
   "metadata": {},
   "outputs": [],
   "source": [
    "# To test the model accuracy of the train-test analysis, First I try the linear regression model.\n",
    "\n",
    "model1 = sk.linear_model.LinearRegression(fit_intercept=True)\n",
    "model1.fit(X_train, y_train)"
   ]
  },
  {
   "cell_type": "code",
   "execution_count": null,
   "metadata": {},
   "outputs": [],
   "source": [
    "# I print the values of the slope and intercept coefficients obtained from the trainig data.\n",
    "\n",
    "print(\"Model_1 slope: \", model1.coef_[0])\n",
    "print(\"Model_1 intercept:\", model1.intercept_)"
   ]
  },
  {
   "cell_type": "code",
   "execution_count": null,
   "metadata": {},
   "outputs": [],
   "source": [
    "# I print the values of the generalized correlation coefficients R^2 of the train and test data of the linear regression model. \n",
    "\n",
    "print(\"Model_1 train R^2 value: \", model1.score(X_train, y_train))\n",
    "print(\"Model_1 test R^2 value: \", model1.score(X_test, y_test))"
   ]
  },
  {
   "cell_type": "code",
   "execution_count": null,
   "metadata": {},
   "outputs": [],
   "source": [
    "# Second, I try the KNN regression model to test the accuracy of the train-test data analysis.\n",
    "\n",
    "from sklearn.preprocessing import StandardScaler\n",
    "scaler = StandardScaler()\n",
    "X_train_scaled = scaler.fit_transform(X_train) # I scale and fit-transform the training predictor data for better stability.\n",
    "X_test_scaled = scaler.transform(X_test) # I scale the test predictor data.\n",
    "model2 = sk.neighbors.KNeighborsRegressor(n_neighbors=3) # I use a value of K=3 which gives the best model accuracy.\n",
    "model2.fit(X_train_scaled, y_train)"
   ]
  },
  {
   "cell_type": "code",
   "execution_count": null,
   "metadata": {},
   "outputs": [],
   "source": [
    "# I print the values of the generalized correlation coefficients R^2 of the train and test data of the KNN regression model.\n",
    "\n",
    "print(\"Model train R^2 value: \", model2.score(X_train_scaled, y_train))\n",
    "print(\"Model test R^2 value: \", model2.score(X_test_scaled, y_test))"
   ]
  },
  {
   "cell_type": "code",
   "execution_count": null,
   "metadata": {},
   "outputs": [],
   "source": [
    "# I create a for-loop to evaluate the RMSE and R^2 vules as a function of K to test the KNN model accuracy.\n",
    "# The value of K=3 gives the best model accuracy.\n",
    "\n",
    "rmse_val = [] # I create an empty list to store the root-mean-square values of the error.\n",
    "R_score = [] # I create an empty list to store the values of R^2 score.\n",
    "    \n",
    "for K in range(0, 22):\n",
    "    K = K+1\n",
    "    model3 = sk.neighbors.KNeighborsRegressor(n_neighbors = K).fit(X_train_scaled, y_train)  #fit the model\n",
    "    pred=model3.predict(X_test_scaled) # make prediction on test set\n",
    "    error = np.sqrt(mean_squared_error(y_test, pred)) #calculate rmse\n",
    "    rmse_val.append(error) #store rmse values\n",
    "    R_score.append(model3.score(X_test_scaled, y_test))\n",
    "    print('RMSE and R^2 values for k=' , K , 'are respectively:', error, model3.score(X_test_scaled, y_test))"
   ]
  },
  {
   "cell_type": "code",
   "execution_count": null,
   "metadata": {},
   "outputs": [],
   "source": [
    "# I show the plot of the MSE and R^2 values vs. K values\n",
    "\n",
    "K=np.arange(1, 23)\n",
    "\n",
    "fig, ax=plt.subplots(figsize=(10, 6))\n",
    "ax.plot(K, np.array(rmse_val)**2, label=\"test $MSE$ value\",marker=\"o\")\n",
    "ax.plot(K, np.array(R_score), label=\"test $R^2$ value\",marker=\"o\")\n",
    "ax.set_xlabel(\"$K$\")\n",
    "ax.set_xticks(K, minor=False)\n",
    "ax.set_yticks(np.arange(0.0, 0.85, 0.05), minor=False)\n",
    "ax.set_title(\"KNN regression model for the test data\")\n",
    "ax.legend()"
   ]
  },
  {
   "cell_type": "code",
   "execution_count": null,
   "metadata": {},
   "outputs": [],
   "source": [
    "# I print the predictions of the \"Life Satisfaction Values\" for Albania, UAE and Armenia using the model\n",
    "# fitted with the training data for K=3.\n",
    "\n",
    "print(model2.predict(scaler.transform(X_new)))"
   ]
  }
 ],
 "metadata": {
  "kernelspec": {
   "display_name": "Python 3",
   "language": "python",
   "name": "python3"
  },
  "language_info": {
   "codemirror_mode": {
    "name": "ipython",
    "version": 3
   },
   "file_extension": ".py",
   "mimetype": "text/x-python",
   "name": "python",
   "nbconvert_exporter": "python",
   "pygments_lexer": "ipython3",
   "version": "3.8.5"
  }
 },
 "nbformat": 4,
 "nbformat_minor": 4
}
